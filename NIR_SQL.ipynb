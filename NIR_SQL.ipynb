{
  "nbformat": 4,
  "nbformat_minor": 0,
  "metadata": {
    "colab": {
      "provenance": [],
      "collapsed_sections": []
    },
    "kernelspec": {
      "name": "python3",
      "display_name": "Python 3"
    },
    "language_info": {
      "name": "python"
    }
  },
  "cells": [
    {
      "cell_type": "markdown",
      "source": [
        "Подготовка к работе"
      ],
      "metadata": {
        "id": "VvXQy6ZAQlS5"
      }
    },
    {
      "cell_type": "code",
      "execution_count": null,
      "metadata": {
        "id": "rhD5EAFWxmJa"
      },
      "outputs": [],
      "source": [
        "import sqlite3"
      ]
    },
    {
      "cell_type": "code",
      "source": [
        "con=sqlite3.connect('bd1.sqlite')"
      ],
      "metadata": {
        "id": "0eEejX7l-G3J"
      },
      "execution_count": null,
      "outputs": []
    },
    {
      "cell_type": "code",
      "source": [
        "cur=con.cursor()"
      ],
      "metadata": {
        "id": "JgNfjY7U-KHe"
      },
      "execution_count": null,
      "outputs": []
    },
    {
      "cell_type": "code",
      "source": [
        "sql=\"\"\"\\\n",
        "CREATE TABLE stud (id TEXT PRIMARY KEY,\n",
        "fio TEXT, email TEXT);\n",
        "CREATE TABLE sessija (id TEXT SECONDARY KEY,\n",
        "Disz TEXT, Ozenka INTEGER, Prepod TEXT, Dat TEXT)\n",
        "\"\"\""
      ],
      "metadata": {
        "id": "Rfy3hJ5k-W2u"
      },
      "execution_count": null,
      "outputs": []
    },
    {
      "cell_type": "code",
      "source": [
        "cur.executescript(sql)"
      ],
      "metadata": {
        "colab": {
          "base_uri": "https://localhost:8080/"
        },
        "id": "avSwqK0M-ael",
        "outputId": "f0b96feb-abf6-4f3a-8586-bcf79586026c"
      },
      "execution_count": null,
      "outputs": [
        {
          "output_type": "execute_result",
          "data": {
            "text/plain": [
              "<sqlite3.Cursor at 0x7f43f5567ce0>"
            ]
          },
          "metadata": {},
          "execution_count": 5
        }
      ]
    },
    {
      "cell_type": "code",
      "source": [
        "cur.close()\n",
        "con.close()"
      ],
      "metadata": {
        "id": "fG8dIOYq-eJn"
      },
      "execution_count": null,
      "outputs": []
    },
    {
      "cell_type": "code",
      "source": [
        "con=sqlite3.connect('bd1.sqlite')\n",
        "cur=con.cursor()\n",
        "sql=\"\"\"\\\n",
        "INSERT INTO stud (id,fio,email) VALUES ('15632458','Удалов И.А.','udalovia@mpei.ru')\n",
        "\"\"\"\n",
        "cur.execute(sql)\n",
        "con.commit()\n",
        "sql=\"\"\"\\\n",
        "INSERT INTO stud (id,fio,email) VALUES ('456987235','Каримов Т.Т.','karimovtt@mpei.ru')\n",
        "\"\"\"\n",
        "cur.execute(sql)\n",
        "con.commit()\n",
        "cur.close()\n",
        "con.close()"
      ],
      "metadata": {
        "id": "1RQDYjtz-mgy"
      },
      "execution_count": null,
      "outputs": []
    },
    {
      "cell_type": "code",
      "source": [
        "arr=[('15632458', 'ТАУ', 'Сидорова Е.Ю. ', 4, '21.01.2023'),( '456987235', 'ПО АС', 'Фомин Г.А. ',5, '25.12.2022')]\n",
        "con=sqlite3.connect('bd1.sqlite')\n",
        "cur=con.cursor()\n",
        "sql=\"\"\"\\\n",
        "INSERT INTO sessija (id, Disz, Ozenka, Prepod, Dat)\n",
        "VALUES (?,?,?,?,?)\"\"\"\n",
        "cur.executemany(sql,arr)\n",
        "con.commit()\n",
        "cur.close()\n",
        "con.close()"
      ],
      "metadata": {
        "id": "599-nGC4APdk"
      },
      "execution_count": null,
      "outputs": []
    },
    {
      "cell_type": "code",
      "source": [
        "import runpy\n",
        "runpy.run_module(mod_name=\"test3\")"
      ],
      "metadata": {
        "colab": {
          "base_uri": "https://localhost:8080/"
        },
        "id": "Jg48c0dGByGa",
        "outputId": "849634c8-7001-464a-f987-a3a43a6bbbf1"
      },
      "execution_count": null,
      "outputs": [
        {
          "output_type": "stream",
          "name": "stdout",
          "text": [
            "Укажите имя файла SQLite: bd1.sqlite\n",
            "Укажите имя таблицы: stud\n",
            "Таблица:  stud  из БД  bd1.sqlite\n",
            "('15632458', 'Удалов И.А', 'udalovia@mpei.ru')\n",
            "('456987235', 'Каримов Т.Т.', 'karimovtt@mpei.ru')\n"
          ]
        },
        {
          "output_type": "execute_result",
          "data": {
            "text/plain": [
              "{'__name__': 'test3',\n",
              " '__file__': '/content/test3.py',\n",
              " '__cached__': '/content/__pycache__/test3.cpython-37.pyc',\n",
              " '__doc__': None,\n",
              " '__loader__': <_frozen_importlib_external.SourceFileLoader at 0x7f86cfe76990>,\n",
              " '__package__': '',\n",
              " '__spec__': ModuleSpec(name='test3', loader=<_frozen_importlib_external.SourceFileLoader object at 0x7f86cfe76990>, origin='/content/test3.py'),\n",
              " '__builtins__': {'__name__': 'builtins',\n",
              "  '__doc__': \"Built-in functions, exceptions, and other objects.\\n\\nNoteworthy: None is the `nil' object; Ellipsis represents `...' in slices.\",\n",
              "  '__package__': '',\n",
              "  '__loader__': _frozen_importlib.BuiltinImporter,\n",
              "  '__spec__': ModuleSpec(name='builtins', loader=<class '_frozen_importlib.BuiltinImporter'>),\n",
              "  '__build_class__': <function __build_class__>,\n",
              "  '__import__': <function __import__>,\n",
              "  'abs': <function abs(x, /)>,\n",
              "  'all': <function all(iterable, /)>,\n",
              "  'any': <function any(iterable, /)>,\n",
              "  'ascii': <function ascii(obj, /)>,\n",
              "  'bin': <function bin(number, /)>,\n",
              "  'breakpoint': <function breakpoint>,\n",
              "  'callable': <function callable(obj, /)>,\n",
              "  'chr': <function chr(i, /)>,\n",
              "  'compile': <function compile(source, filename, mode, flags=0, dont_inherit=False, optimize=-1)>,\n",
              "  'delattr': <function delattr(obj, name, /)>,\n",
              "  'dir': <function dir>,\n",
              "  'divmod': <function divmod(x, y, /)>,\n",
              "  'eval': <function eval(source, globals=None, locals=None, /)>,\n",
              "  'exec': <function exec(source, globals=None, locals=None, /)>,\n",
              "  'format': <function format(value, format_spec='', /)>,\n",
              "  'getattr': <function getattr>,\n",
              "  'globals': <function globals()>,\n",
              "  'hasattr': <function hasattr(obj, name, /)>,\n",
              "  'hash': <function hash(obj, /)>,\n",
              "  'hex': <function hex(number, /)>,\n",
              "  'id': <function id(obj, /)>,\n",
              "  'input': <bound method Kernel.raw_input of <google.colab._kernel.Kernel object at 0x7f86e19923d0>>,\n",
              "  'isinstance': <function isinstance(obj, class_or_tuple, /)>,\n",
              "  'issubclass': <function issubclass(cls, class_or_tuple, /)>,\n",
              "  'iter': <function iter>,\n",
              "  'len': <function len(obj, /)>,\n",
              "  'locals': <function locals()>,\n",
              "  'max': <function max>,\n",
              "  'min': <function min>,\n",
              "  'next': <function next>,\n",
              "  'oct': <function oct(number, /)>,\n",
              "  'ord': <function ord(c, /)>,\n",
              "  'pow': <function pow(x, y, z=None, /)>,\n",
              "  'print': <function print>,\n",
              "  'repr': <function repr(obj, /)>,\n",
              "  'round': <function round(number, ndigits=None)>,\n",
              "  'setattr': <function setattr(obj, name, value, /)>,\n",
              "  'sorted': <function sorted(iterable, /, *, key=None, reverse=False)>,\n",
              "  'sum': <function sum(iterable, start=0, /)>,\n",
              "  'vars': <function vars>,\n",
              "  'None': None,\n",
              "  'Ellipsis': Ellipsis,\n",
              "  'NotImplemented': NotImplemented,\n",
              "  'False': False,\n",
              "  'True': True,\n",
              "  'bool': bool,\n",
              "  'memoryview': memoryview,\n",
              "  'bytearray': bytearray,\n",
              "  'bytes': bytes,\n",
              "  'classmethod': classmethod,\n",
              "  'complex': complex,\n",
              "  'dict': dict,\n",
              "  'enumerate': enumerate,\n",
              "  'filter': filter,\n",
              "  'float': float,\n",
              "  'frozenset': frozenset,\n",
              "  'property': property,\n",
              "  'int': int,\n",
              "  'list': list,\n",
              "  'map': map,\n",
              "  'object': object,\n",
              "  'range': range,\n",
              "  'reversed': reversed,\n",
              "  'set': set,\n",
              "  'slice': slice,\n",
              "  'staticmethod': staticmethod,\n",
              "  'str': str,\n",
              "  'super': super,\n",
              "  'tuple': tuple,\n",
              "  'type': type,\n",
              "  'zip': zip,\n",
              "  '__debug__': True,\n",
              "  'BaseException': BaseException,\n",
              "  'Exception': Exception,\n",
              "  'TypeError': TypeError,\n",
              "  'StopAsyncIteration': StopAsyncIteration,\n",
              "  'StopIteration': StopIteration,\n",
              "  'GeneratorExit': GeneratorExit,\n",
              "  'SystemExit': SystemExit,\n",
              "  'KeyboardInterrupt': KeyboardInterrupt,\n",
              "  'ImportError': ImportError,\n",
              "  'ModuleNotFoundError': ModuleNotFoundError,\n",
              "  'OSError': OSError,\n",
              "  'EnvironmentError': OSError,\n",
              "  'IOError': OSError,\n",
              "  'EOFError': EOFError,\n",
              "  'RuntimeError': RuntimeError,\n",
              "  'RecursionError': RecursionError,\n",
              "  'NotImplementedError': NotImplementedError,\n",
              "  'NameError': NameError,\n",
              "  'UnboundLocalError': UnboundLocalError,\n",
              "  'AttributeError': AttributeError,\n",
              "  'SyntaxError': SyntaxError,\n",
              "  'IndentationError': IndentationError,\n",
              "  'TabError': TabError,\n",
              "  'LookupError': LookupError,\n",
              "  'IndexError': IndexError,\n",
              "  'KeyError': KeyError,\n",
              "  'ValueError': ValueError,\n",
              "  'UnicodeError': UnicodeError,\n",
              "  'UnicodeEncodeError': UnicodeEncodeError,\n",
              "  'UnicodeDecodeError': UnicodeDecodeError,\n",
              "  'UnicodeTranslateError': UnicodeTranslateError,\n",
              "  'AssertionError': AssertionError,\n",
              "  'ArithmeticError': ArithmeticError,\n",
              "  'FloatingPointError': FloatingPointError,\n",
              "  'OverflowError': OverflowError,\n",
              "  'ZeroDivisionError': ZeroDivisionError,\n",
              "  'SystemError': SystemError,\n",
              "  'ReferenceError': ReferenceError,\n",
              "  'MemoryError': MemoryError,\n",
              "  'BufferError': BufferError,\n",
              "  'Warning': Warning,\n",
              "  'UserWarning': UserWarning,\n",
              "  'DeprecationWarning': DeprecationWarning,\n",
              "  'PendingDeprecationWarning': PendingDeprecationWarning,\n",
              "  'SyntaxWarning': SyntaxWarning,\n",
              "  'RuntimeWarning': RuntimeWarning,\n",
              "  'FutureWarning': FutureWarning,\n",
              "  'ImportWarning': ImportWarning,\n",
              "  'UnicodeWarning': UnicodeWarning,\n",
              "  'BytesWarning': BytesWarning,\n",
              "  'ResourceWarning': ResourceWarning,\n",
              "  'ConnectionError': ConnectionError,\n",
              "  'BlockingIOError': BlockingIOError,\n",
              "  'BrokenPipeError': BrokenPipeError,\n",
              "  'ChildProcessError': ChildProcessError,\n",
              "  'ConnectionAbortedError': ConnectionAbortedError,\n",
              "  'ConnectionRefusedError': ConnectionRefusedError,\n",
              "  'ConnectionResetError': ConnectionResetError,\n",
              "  'FileExistsError': FileExistsError,\n",
              "  'FileNotFoundError': FileNotFoundError,\n",
              "  'IsADirectoryError': IsADirectoryError,\n",
              "  'NotADirectoryError': NotADirectoryError,\n",
              "  'InterruptedError': InterruptedError,\n",
              "  'PermissionError': PermissionError,\n",
              "  'ProcessLookupError': ProcessLookupError,\n",
              "  'TimeoutError': TimeoutError,\n",
              "  'open': <function io.open(file, mode='r', buffering=-1, encoding=None, errors=None, newline=None, closefd=True, opener=None)>,\n",
              "  'copyright': Copyright (c) 2001-2022 Python Software Foundation.\n",
              "  All Rights Reserved.\n",
              "  \n",
              "  Copyright (c) 2000 BeOpen.com.\n",
              "  All Rights Reserved.\n",
              "  \n",
              "  Copyright (c) 1995-2001 Corporation for National Research Initiatives.\n",
              "  All Rights Reserved.\n",
              "  \n",
              "  Copyright (c) 1991-1995 Stichting Mathematisch Centrum, Amsterdam.\n",
              "  All Rights Reserved.,\n",
              "  'credits':     Thanks to CWI, CNRI, BeOpen.com, Zope Corporation and a cast of thousands\n",
              "      for supporting Python development.  See www.python.org for more information.,\n",
              "  'license': Type license() to see the full license text,\n",
              "  'help': Type help() for interactive help, or help(object) for help about object.,\n",
              "  '__IPYTHON__': True,\n",
              "  'display': <function IPython.core.display.display(*objs, include=None, exclude=None, metadata=None, transient=None, display_id=None, **kwargs)>,\n",
              "  'execfile': <function _pydev_imps._pydev_execfile.execfile(file, glob=None, loc=None)>,\n",
              "  'runfile': <function _pydev_bundle.pydev_umd.runfile(filename, args=None, wdir=None, namespace=None)>,\n",
              "  'get_ipython': <bound method InteractiveShell.get_ipython of <google.colab._shell.Shell object at 0x7f86e51c0450>>},\n",
              " 'os': <module 'os' from '/usr/lib/python3.7/os.py'>,\n",
              " 'sqlite3': <module 'sqlite3' from '/usr/lib/python3.7/sqlite3/__init__.py'>,\n",
              " 'select_cmd': <function test3.select_cmd()>,\n",
              " 'dbname': 'bd1.sqlite',\n",
              " 'tblname': 'stud',\n",
              " 'con': <sqlite3.Connection at 0x7f86d453d730>,\n",
              " 'cur': <sqlite3.Cursor at 0x7f86cfe779d0>,\n",
              " 'dan': [('15632458', 'Удалов И.А', 'udalovia@mpei.ru'),\n",
              "  ('456987235', 'Каримов Т.Т.', 'karimovtt@mpei.ru')],\n",
              " 'nzap': 2,\n",
              " 'i': 1}"
            ]
          },
          "metadata": {},
          "execution_count": 14
        }
      ]
    },
    {
      "cell_type": "code",
      "source": [
        "import os,sqlite3\n",
        "def select_cmd(): \n",
        "#просмотр таблицы с именем в tblname из БД с именем в dbname\n",
        "    sql = 'SELECT * FROM {}'.format(tblname)\n",
        "    with con:\n",
        "        data = cur.execute(sql).fetchall()   \n",
        "    return (data)\n",
        "dbname=' ' \n",
        "###Выбор БД с проверкой ее наличия\n",
        "while (os.path.isfile(dbname)!=True):\n",
        "    dbname = input('Укажите имя файла SQLite: ') \n",
        "    if (os.path.isfile(dbname)==True): break\n",
        "    print('Нет такого файла!')\n",
        "\n",
        "tblname = input('Укажите имя таблицы: ') #ввод имени таблицы\n",
        "con = sqlite3.connect(dbname)\n",
        "cur = con.cursor()\n",
        "dan=select_cmd()\n",
        "nzap=len(dan)\n",
        "print('Таблица: ',tblname,' из БД ',dbname)\n",
        "for i in range(nzap):\n",
        "    print(dan[i])\n",
        "cur.close()\n",
        "con.close()\n"
      ],
      "metadata": {
        "colab": {
          "base_uri": "https://localhost:8080/"
        },
        "id": "E2Qy_r_tKbzD",
        "outputId": "228d656e-dd87-4d4f-868f-21b682853e1e"
      },
      "execution_count": null,
      "outputs": [
        {
          "output_type": "stream",
          "name": "stdout",
          "text": [
            "Укажите имя файла SQLite: bd1.sqlite\n",
            "Укажите имя таблицы: sessija\n",
            "Таблица:  sessija  из БД  bd1.sqlite\n",
            "('15632458', 'ТАУ', 'Сидорова Е.Ю. ', '4', '21.01.2023')\n",
            "('456987235', 'ПО АС', 'Фомин Г.А. ', '5', '25.12.2022')\n"
          ]
        }
      ]
    },
    {
      "cell_type": "code",
      "source": [
        "runpy.run_module(mod_name=\"test3\")"
      ],
      "metadata": {
        "colab": {
          "base_uri": "https://localhost:8080/"
        },
        "id": "Fkox_yPtDBad",
        "outputId": "ba2f4fa8-703f-4fa4-c79b-19e6156613ff"
      },
      "execution_count": null,
      "outputs": [
        {
          "output_type": "stream",
          "name": "stdout",
          "text": [
            "Укажите имя файла SQLite: bd1.sqlite\n",
            "Укажите имя таблицы: sessija\n",
            "Таблица:  sessija  из БД  bd1.sqlite\n",
            "('15632458', 'ТАУ', 'Сидорова Е.Ю. ', '4', '21.01.2023')\n",
            "('456987235', 'ПО АС', 'Фомин Г.А. ', '5', '25.12.2022')\n"
          ]
        },
        {
          "output_type": "execute_result",
          "data": {
            "text/plain": [
              "{'__name__': 'test3',\n",
              " '__file__': '/content/test3.py',\n",
              " '__cached__': '/content/__pycache__/test3.cpython-37.pyc',\n",
              " '__doc__': None,\n",
              " '__loader__': <_frozen_importlib_external.SourceFileLoader at 0x7f86d0979e10>,\n",
              " '__package__': '',\n",
              " '__spec__': ModuleSpec(name='test3', loader=<_frozen_importlib_external.SourceFileLoader object at 0x7f86d0979e10>, origin='/content/test3.py'),\n",
              " '__builtins__': {'__name__': 'builtins',\n",
              "  '__doc__': \"Built-in functions, exceptions, and other objects.\\n\\nNoteworthy: None is the `nil' object; Ellipsis represents `...' in slices.\",\n",
              "  '__package__': '',\n",
              "  '__loader__': _frozen_importlib.BuiltinImporter,\n",
              "  '__spec__': ModuleSpec(name='builtins', loader=<class '_frozen_importlib.BuiltinImporter'>),\n",
              "  '__build_class__': <function __build_class__>,\n",
              "  '__import__': <function __import__>,\n",
              "  'abs': <function abs(x, /)>,\n",
              "  'all': <function all(iterable, /)>,\n",
              "  'any': <function any(iterable, /)>,\n",
              "  'ascii': <function ascii(obj, /)>,\n",
              "  'bin': <function bin(number, /)>,\n",
              "  'breakpoint': <function breakpoint>,\n",
              "  'callable': <function callable(obj, /)>,\n",
              "  'chr': <function chr(i, /)>,\n",
              "  'compile': <function compile(source, filename, mode, flags=0, dont_inherit=False, optimize=-1)>,\n",
              "  'delattr': <function delattr(obj, name, /)>,\n",
              "  'dir': <function dir>,\n",
              "  'divmod': <function divmod(x, y, /)>,\n",
              "  'eval': <function eval(source, globals=None, locals=None, /)>,\n",
              "  'exec': <function exec(source, globals=None, locals=None, /)>,\n",
              "  'format': <function format(value, format_spec='', /)>,\n",
              "  'getattr': <function getattr>,\n",
              "  'globals': <function globals()>,\n",
              "  'hasattr': <function hasattr(obj, name, /)>,\n",
              "  'hash': <function hash(obj, /)>,\n",
              "  'hex': <function hex(number, /)>,\n",
              "  'id': <function id(obj, /)>,\n",
              "  'input': <bound method Kernel.raw_input of <google.colab._kernel.Kernel object at 0x7f86e19923d0>>,\n",
              "  'isinstance': <function isinstance(obj, class_or_tuple, /)>,\n",
              "  'issubclass': <function issubclass(cls, class_or_tuple, /)>,\n",
              "  'iter': <function iter>,\n",
              "  'len': <function len(obj, /)>,\n",
              "  'locals': <function locals()>,\n",
              "  'max': <function max>,\n",
              "  'min': <function min>,\n",
              "  'next': <function next>,\n",
              "  'oct': <function oct(number, /)>,\n",
              "  'ord': <function ord(c, /)>,\n",
              "  'pow': <function pow(x, y, z=None, /)>,\n",
              "  'print': <function print>,\n",
              "  'repr': <function repr(obj, /)>,\n",
              "  'round': <function round(number, ndigits=None)>,\n",
              "  'setattr': <function setattr(obj, name, value, /)>,\n",
              "  'sorted': <function sorted(iterable, /, *, key=None, reverse=False)>,\n",
              "  'sum': <function sum(iterable, start=0, /)>,\n",
              "  'vars': <function vars>,\n",
              "  'None': None,\n",
              "  'Ellipsis': Ellipsis,\n",
              "  'NotImplemented': NotImplemented,\n",
              "  'False': False,\n",
              "  'True': True,\n",
              "  'bool': bool,\n",
              "  'memoryview': memoryview,\n",
              "  'bytearray': bytearray,\n",
              "  'bytes': bytes,\n",
              "  'classmethod': classmethod,\n",
              "  'complex': complex,\n",
              "  'dict': dict,\n",
              "  'enumerate': enumerate,\n",
              "  'filter': filter,\n",
              "  'float': float,\n",
              "  'frozenset': frozenset,\n",
              "  'property': property,\n",
              "  'int': int,\n",
              "  'list': list,\n",
              "  'map': map,\n",
              "  'object': object,\n",
              "  'range': range,\n",
              "  'reversed': reversed,\n",
              "  'set': set,\n",
              "  'slice': slice,\n",
              "  'staticmethod': staticmethod,\n",
              "  'str': str,\n",
              "  'super': super,\n",
              "  'tuple': tuple,\n",
              "  'type': type,\n",
              "  'zip': zip,\n",
              "  '__debug__': True,\n",
              "  'BaseException': BaseException,\n",
              "  'Exception': Exception,\n",
              "  'TypeError': TypeError,\n",
              "  'StopAsyncIteration': StopAsyncIteration,\n",
              "  'StopIteration': StopIteration,\n",
              "  'GeneratorExit': GeneratorExit,\n",
              "  'SystemExit': SystemExit,\n",
              "  'KeyboardInterrupt': KeyboardInterrupt,\n",
              "  'ImportError': ImportError,\n",
              "  'ModuleNotFoundError': ModuleNotFoundError,\n",
              "  'OSError': OSError,\n",
              "  'EnvironmentError': OSError,\n",
              "  'IOError': OSError,\n",
              "  'EOFError': EOFError,\n",
              "  'RuntimeError': RuntimeError,\n",
              "  'RecursionError': RecursionError,\n",
              "  'NotImplementedError': NotImplementedError,\n",
              "  'NameError': NameError,\n",
              "  'UnboundLocalError': UnboundLocalError,\n",
              "  'AttributeError': AttributeError,\n",
              "  'SyntaxError': SyntaxError,\n",
              "  'IndentationError': IndentationError,\n",
              "  'TabError': TabError,\n",
              "  'LookupError': LookupError,\n",
              "  'IndexError': IndexError,\n",
              "  'KeyError': KeyError,\n",
              "  'ValueError': ValueError,\n",
              "  'UnicodeError': UnicodeError,\n",
              "  'UnicodeEncodeError': UnicodeEncodeError,\n",
              "  'UnicodeDecodeError': UnicodeDecodeError,\n",
              "  'UnicodeTranslateError': UnicodeTranslateError,\n",
              "  'AssertionError': AssertionError,\n",
              "  'ArithmeticError': ArithmeticError,\n",
              "  'FloatingPointError': FloatingPointError,\n",
              "  'OverflowError': OverflowError,\n",
              "  'ZeroDivisionError': ZeroDivisionError,\n",
              "  'SystemError': SystemError,\n",
              "  'ReferenceError': ReferenceError,\n",
              "  'MemoryError': MemoryError,\n",
              "  'BufferError': BufferError,\n",
              "  'Warning': Warning,\n",
              "  'UserWarning': UserWarning,\n",
              "  'DeprecationWarning': DeprecationWarning,\n",
              "  'PendingDeprecationWarning': PendingDeprecationWarning,\n",
              "  'SyntaxWarning': SyntaxWarning,\n",
              "  'RuntimeWarning': RuntimeWarning,\n",
              "  'FutureWarning': FutureWarning,\n",
              "  'ImportWarning': ImportWarning,\n",
              "  'UnicodeWarning': UnicodeWarning,\n",
              "  'BytesWarning': BytesWarning,\n",
              "  'ResourceWarning': ResourceWarning,\n",
              "  'ConnectionError': ConnectionError,\n",
              "  'BlockingIOError': BlockingIOError,\n",
              "  'BrokenPipeError': BrokenPipeError,\n",
              "  'ChildProcessError': ChildProcessError,\n",
              "  'ConnectionAbortedError': ConnectionAbortedError,\n",
              "  'ConnectionRefusedError': ConnectionRefusedError,\n",
              "  'ConnectionResetError': ConnectionResetError,\n",
              "  'FileExistsError': FileExistsError,\n",
              "  'FileNotFoundError': FileNotFoundError,\n",
              "  'IsADirectoryError': IsADirectoryError,\n",
              "  'NotADirectoryError': NotADirectoryError,\n",
              "  'InterruptedError': InterruptedError,\n",
              "  'PermissionError': PermissionError,\n",
              "  'ProcessLookupError': ProcessLookupError,\n",
              "  'TimeoutError': TimeoutError,\n",
              "  'open': <function io.open(file, mode='r', buffering=-1, encoding=None, errors=None, newline=None, closefd=True, opener=None)>,\n",
              "  'copyright': Copyright (c) 2001-2022 Python Software Foundation.\n",
              "  All Rights Reserved.\n",
              "  \n",
              "  Copyright (c) 2000 BeOpen.com.\n",
              "  All Rights Reserved.\n",
              "  \n",
              "  Copyright (c) 1995-2001 Corporation for National Research Initiatives.\n",
              "  All Rights Reserved.\n",
              "  \n",
              "  Copyright (c) 1991-1995 Stichting Mathematisch Centrum, Amsterdam.\n",
              "  All Rights Reserved.,\n",
              "  'credits':     Thanks to CWI, CNRI, BeOpen.com, Zope Corporation and a cast of thousands\n",
              "      for supporting Python development.  See www.python.org for more information.,\n",
              "  'license': Type license() to see the full license text,\n",
              "  'help': Type help() for interactive help, or help(object) for help about object.,\n",
              "  '__IPYTHON__': True,\n",
              "  'display': <function IPython.core.display.display(*objs, include=None, exclude=None, metadata=None, transient=None, display_id=None, **kwargs)>,\n",
              "  'execfile': <function _pydev_imps._pydev_execfile.execfile(file, glob=None, loc=None)>,\n",
              "  'runfile': <function _pydev_bundle.pydev_umd.runfile(filename, args=None, wdir=None, namespace=None)>,\n",
              "  'get_ipython': <bound method InteractiveShell.get_ipython of <google.colab._shell.Shell object at 0x7f86e51c0450>>},\n",
              " 'os': <module 'os' from '/usr/lib/python3.7/os.py'>,\n",
              " 'sqlite3': <module 'sqlite3' from '/usr/lib/python3.7/sqlite3/__init__.py'>,\n",
              " 'select_cmd': <function test3.select_cmd()>,\n",
              " 'dbname': 'bd1.sqlite',\n",
              " 'tblname': 'sessija',\n",
              " 'con': <sqlite3.Connection at 0x7f86d453dc70>,\n",
              " 'cur': <sqlite3.Cursor at 0x7f86cfe91d50>,\n",
              " 'dan': [('15632458', 'ТАУ', 'Сидорова Е.Ю. ', '4', '21.01.2023'),\n",
              "  ('456987235', 'ПО АС', 'Фомин Г.А. ', '5', '25.12.2022')],\n",
              " 'nzap': 2,\n",
              " 'i': 1}"
            ]
          },
          "metadata": {},
          "execution_count": 15
        }
      ]
    },
    {
      "cell_type": "code",
      "source": [
        "con=sqlite3.connect(\"bd1.sqlite\")\n",
        "cur=con.cursor()\n",
        "cur.execute(\"SELECT * FROM stud\")\n",
        "ar=cur.fetchall()\n",
        "cur.close()\n",
        "con.close()\n",
        "print(ar)"
      ],
      "metadata": {
        "colab": {
          "base_uri": "https://localhost:8080/"
        },
        "id": "gbcPO0JvDR8R",
        "outputId": "00505a49-e191-43cd-d1f4-016cf8e88402"
      },
      "execution_count": null,
      "outputs": [
        {
          "output_type": "stream",
          "name": "stdout",
          "text": [
            "[('15632458', 'Удалов И.А.', 'udalovia@mpei.ru'), ('456987235', 'Каримов Т.Т.', 'karimovtt@mpei.ru')]\n"
          ]
        }
      ]
    },
    {
      "cell_type": "code",
      "source": [
        "con=sqlite3.connect('vuz.sqlite')\n",
        "cur=con.cursor()"
      ],
      "metadata": {
        "id": "2EvbQbWoDmDq"
      },
      "execution_count": null,
      "outputs": []
    },
    {
      "cell_type": "code",
      "source": [
        "sql=\"\"\"\\\n",
        "SELECT name FROM sqlite_master WHERE type IN ('table','view') AND\n",
        "name NOT LIKE 'sqlite_%' UNION ALL SELECT name FROM\n",
        "sqlite_temp_master WHERE type IN ('table','view') ORDER BY 1;\n",
        "\"\"\"\n",
        "cur.execute(sql)"
      ],
      "metadata": {
        "colab": {
          "base_uri": "https://localhost:8080/"
        },
        "id": "qbZ6cEmXD69q",
        "outputId": "ca454e3e-0a2c-488f-cd9d-e3e94fccd6d3"
      },
      "execution_count": null,
      "outputs": [
        {
          "output_type": "execute_result",
          "data": {
            "text/plain": [
              "<sqlite3.Cursor at 0x7f43f1aad110>"
            ]
          },
          "metadata": {},
          "execution_count": 25
        }
      ]
    },
    {
      "cell_type": "code",
      "source": [
        "con.commit()\n",
        "#cur.fetchall()"
      ],
      "metadata": {
        "id": "65C823zrEH54"
      },
      "execution_count": null,
      "outputs": []
    },
    {
      "cell_type": "code",
      "source": [
        "cur.fetchall()"
      ],
      "metadata": {
        "colab": {
          "base_uri": "https://localhost:8080/"
        },
        "id": "BivqIB9oNWsB",
        "outputId": "1020d847-bd87-4f9a-b511-ac96f85dd9de"
      },
      "execution_count": null,
      "outputs": [
        {
          "output_type": "execute_result",
          "data": {
            "text/plain": [
              "[]"
            ]
          },
          "metadata": {},
          "execution_count": 27
        }
      ]
    },
    {
      "cell_type": "code",
      "source": [
        "cur.close()\n",
        "con.close()"
      ],
      "metadata": {
        "id": "91yDB9hvJI_V"
      },
      "execution_count": null,
      "outputs": []
    },
    {
      "cell_type": "code",
      "source": [
        "con=sqlite3.connect('VUZ.sqlite')\n",
        "def my_factory(c,r):\n",
        "###Функция для извлечения имен полей\n",
        "  d={}\n",
        "  for i,name in enumerate(c.description):\n",
        "    d[name[0]]=r[i]\n",
        "    d[i]=r[i]\n",
        "  return(d)"
      ],
      "metadata": {
        "id": "iqf5sSXOQ8sF"
      },
      "execution_count": null,
      "outputs": []
    },
    {
      "cell_type": "code",
      "source": [],
      "metadata": {
        "id": "X9L0DAmKVuYz"
      },
      "execution_count": null,
      "outputs": []
    },
    {
      "cell_type": "code",
      "source": [
        "con.row_factory=my_factory\n",
        "cur=con.cursor()\n",
        "cur.execute('SELECT * FROM vuzkart')"
      ],
      "metadata": {
        "colab": {
          "base_uri": "https://localhost:8080/"
        },
        "id": "vnXss0rwRON2",
        "outputId": "aea2989b-630c-4706-b486-58d0970bf20d"
      },
      "execution_count": null,
      "outputs": [
        {
          "output_type": "execute_result",
          "data": {
            "text/plain": [
              "<sqlite3.Cursor at 0x7f43f1a9b500>"
            ]
          },
          "metadata": {},
          "execution_count": 30
        }
      ]
    },
    {
      "cell_type": "code",
      "source": [
        "ar=cur.fetchone()\n",
        "cur.close()\n",
        "con.close()\n",
        "fld_names=list(ar.keys())[::2]\n",
        "print(fld_names)"
      ],
      "metadata": {
        "colab": {
          "base_uri": "https://localhost:8080/"
        },
        "id": "uhCcjPF7RpfR",
        "outputId": "8880054c-4ad3-4043-86a2-c4e3bd6d9595"
      },
      "execution_count": null,
      "outputs": [
        {
          "output_type": "stream",
          "name": "stdout",
          "text": [
            "['codvuz', 'z1', 'z1full', 'z2', 'z2ustav', 'foundyear', 'z8', 'z9', 'z12', 'e_mail', 'www', 'z15', 'region', 'city', 'status', 'oblname', 'gr_ved', 'prof']\n"
          ]
        }
      ]
    },
    {
      "cell_type": "code",
      "source": [
        "con=sqlite3.connect('bd1.sqlite')\n",
        "cur=con.cursor()\n",
        "ar=[]; vv=[]\n",
        "vv.append(input('Код зачетки студента='))\n",
        "vv.append(input('ФИО студента = '))\n",
        "vv.append(input('e-mail студента ='))\n",
        "ar.append(tuple(vv))\n",
        "print(ar)"
      ],
      "metadata": {
        "colab": {
          "base_uri": "https://localhost:8080/"
        },
        "id": "9eJQ6JV2SNWH",
        "outputId": "93cd5010-1690-498f-c9a3-8b215181c02b"
      },
      "execution_count": null,
      "outputs": [
        {
          "output_type": "stream",
          "name": "stdout",
          "text": [
            "Код зачетки студента=75632147\n",
            "ФИО студента = Булатников А.Н.\n",
            "e-mail студента =BulatnikovAN@mpei.ru\n",
            "[('75632147', 'Булатников А.Н.', 'BulatnikovAN@mpei.ru')]\n"
          ]
        }
      ]
    },
    {
      "cell_type": "code",
      "source": [
        "sql='INSERT INTO stud (id,fio,email) VALUES (?,?,?)'\n",
        "cur.executemany(sql,ar)\n",
        "con.commit()\n",
        "\n",
        "cur.execute('SELECT * FROM stud')\n",
        "ar1=cur.fetchall()\n",
        "print(ar1)\n",
        "cur.close()\n",
        "con.close()"
      ],
      "metadata": {
        "colab": {
          "base_uri": "https://localhost:8080/"
        },
        "id": "YJ6hvhnnSgl3",
        "outputId": "aec99232-9642-4786-e429-6ebc36a3ee42"
      },
      "execution_count": null,
      "outputs": [
        {
          "output_type": "stream",
          "name": "stdout",
          "text": [
            "[('15632458', 'Удалов И.А.', 'udalovia@mpei.ru'), ('456987235', 'Каримов Т.Т.', 'karimovtt@mpei.ru'), ('75632147', 'Булатников А.Н.', 'BulatnikovAN@mpei.ru')]\n"
          ]
        }
      ]
    },
    {
      "cell_type": "markdown",
      "source": [
        "**Этап** 2\n",
        "Выполнение задания (оформить красвио, убрать ненужные выводы) "
      ],
      "metadata": {
        "id": "FFENv7RHOQgP"
      }
    },
    {
      "cell_type": "code",
      "source": [
        "con=sqlite3.connect('summary.sqlite')\n",
        "cur=con.cursor()"
      ],
      "metadata": {
        "id": "tCiqUAibYLM_"
      },
      "execution_count": null,
      "outputs": []
    },
    {
      "cell_type": "code",
      "source": [
        "sql=\"\"\"\\\n",
        "CREATE TABLE disciplines (code TEXT PRIMARY KEY,\n",
        "discipline TEXT, term INTEGER, type_certification TEXT, \n",
        "data_certification TEXT, fio_p TEXT, post TEXT, mark INTEGER, data_mark TEXT);\n",
        "\"\"\"\n",
        "cur.execute(sql)\n",
        "cur.close()\n",
        "con.close()"
      ],
      "metadata": {
        "id": "dtT1MauvYKo2"
      },
      "execution_count": null,
      "outputs": []
    },
    {
      "cell_type": "code",
      "source": [
        "con=sqlite3.connect('summary.sqlite')\n",
        "def my_factory(c,r):\n",
        "###Функция для извлечения имен полей\n",
        "  d={}\n",
        "  for i,name in enumerate(c.description):\n",
        "    d[name[0]]=r[i]\n",
        "    d[i]=r[i]\n",
        "  return(d)\n",
        "con.row_factory=my_factory\n",
        "cur=con.cursor()\n",
        "cur.execute('SELECT * FROM disciplines')\n",
        "ar=cur.fetchone()\n",
        "cur.close()\n",
        "con.close()\n",
        "fld_names=list(ar.keys())[::2]\n",
        "print(fld_names)"
      ],
      "metadata": {
        "colab": {
          "base_uri": "https://localhost:8080/",
          "height": 244
        },
        "id": "qtzdkkgiV1zV",
        "outputId": "26a990da-5c3a-4bc2-9972-3c172120fc8d"
      },
      "execution_count": null,
      "outputs": [
        {
          "output_type": "error",
          "ename": "OperationalError",
          "evalue": "ignored",
          "traceback": [
            "\u001b[0;31m---------------------------------------------------------------------------\u001b[0m",
            "\u001b[0;31mOperationalError\u001b[0m                          Traceback (most recent call last)",
            "\u001b[0;32m<ipython-input-4-691c4c5b3982>\u001b[0m in \u001b[0;36m<module>\u001b[0;34m\u001b[0m\n\u001b[1;32m      9\u001b[0m \u001b[0mcon\u001b[0m\u001b[0;34m.\u001b[0m\u001b[0mrow_factory\u001b[0m\u001b[0;34m=\u001b[0m\u001b[0mmy_factory\u001b[0m\u001b[0;34m\u001b[0m\u001b[0;34m\u001b[0m\u001b[0m\n\u001b[1;32m     10\u001b[0m \u001b[0mcur\u001b[0m\u001b[0;34m=\u001b[0m\u001b[0mcon\u001b[0m\u001b[0;34m.\u001b[0m\u001b[0mcursor\u001b[0m\u001b[0;34m(\u001b[0m\u001b[0;34m)\u001b[0m\u001b[0;34m\u001b[0m\u001b[0;34m\u001b[0m\u001b[0m\n\u001b[0;32m---> 11\u001b[0;31m \u001b[0mcur\u001b[0m\u001b[0;34m.\u001b[0m\u001b[0mexecute\u001b[0m\u001b[0;34m(\u001b[0m\u001b[0;34m'SELECT * FROM disciplines'\u001b[0m\u001b[0;34m)\u001b[0m\u001b[0;34m\u001b[0m\u001b[0;34m\u001b[0m\u001b[0m\n\u001b[0m\u001b[1;32m     12\u001b[0m \u001b[0mar\u001b[0m\u001b[0;34m=\u001b[0m\u001b[0mcur\u001b[0m\u001b[0;34m.\u001b[0m\u001b[0mfetchone\u001b[0m\u001b[0;34m(\u001b[0m\u001b[0;34m)\u001b[0m\u001b[0;34m\u001b[0m\u001b[0;34m\u001b[0m\u001b[0m\n\u001b[1;32m     13\u001b[0m \u001b[0mcur\u001b[0m\u001b[0;34m.\u001b[0m\u001b[0mclose\u001b[0m\u001b[0;34m(\u001b[0m\u001b[0;34m)\u001b[0m\u001b[0;34m\u001b[0m\u001b[0;34m\u001b[0m\u001b[0m\n",
            "\u001b[0;31mOperationalError\u001b[0m: no such table: disciplines"
          ]
        }
      ]
    },
    {
      "cell_type": "code",
      "source": [
        "def show_data():\n",
        "  con=sqlite3.connect('summary.sqlite')\n",
        "  cur=con.cursor()\n",
        "  #Отображение текущего содержимого таблицы БД на экране в виде таблицы\n",
        "  cur.execute('SELECT * FROM disciplines')\n",
        "  ar1=cur.fetchall()\n",
        "  #print(ar1)\n",
        "  cur.close()\n",
        "  con.close()\n",
        "  con=sqlite3.connect('summary.sqlite')\n",
        "  def my_factory(c,r):\n",
        "  ###Функция для извлечения имен полей\n",
        "    d={}\n",
        "    for i,name in enumerate(c.description):\n",
        "      d[name[0]]=r[i]\n",
        "      d[i]=r[i]\n",
        "    return(d)\n",
        "  con.row_factory=my_factory\n",
        "  cur=con.cursor()\n",
        "  cur.execute('SELECT * FROM disciplines')\n",
        "  ar=cur.fetchone()\n",
        "  cur.close()\n",
        "  con.close()\n",
        "  fld_names=list(ar.keys())[::2]\n",
        "  df = pd.DataFrame(columns = fld_names)\n",
        "  for i in range(len(ar1)):\n",
        "    df.loc[i] = ar1[i]\n",
        "  df.set_index('code', inplace = True)\n",
        "  display(df)\n",
        "  return df"
      ],
      "metadata": {
        "id": "PVTZMca4iMMT"
      },
      "execution_count": null,
      "outputs": []
    },
    {
      "cell_type": "code",
      "source": [
        "def save_data():\n",
        "  name = input('Введите имя файла')\n",
        "  gh=open(name+'.txt','w')\n",
        "  con=sqlite3.connect('summary.sqlite')\n",
        "  cur=con.cursor()\n",
        "  #Отображение текущего содержимого таблицы БД на экране в виде таблицы\n",
        "  cur.execute('SELECT * FROM disciplines')\n",
        "  ar1=cur.fetchall()\n",
        "  def my_factory(c,r):\n",
        "  ###Функция для извлечения имен полей\n",
        "    d={}\n",
        "    for i,name in enumerate(c.description):\n",
        "      d[name[0]]=r[i]\n",
        "      d[i]=r[i]\n",
        "    return(d)\n",
        "  con.row_factory=my_factory\n",
        "  cur=con.cursor()\n",
        "  cur.execute('SELECT * FROM disciplines')\n",
        "  ar=cur.fetchone()\n",
        "  cur.close()\n",
        "  con.close()\n",
        "  fld_names=list(ar.keys())[::2]\n",
        "  for r in fld_names:\n",
        "    gh.write(r + ' ')\n",
        "  for i in ar1:\n",
        "    gh.write('\\n')\n",
        "    for j in i:\n",
        "      gh.write(str(j) + ' ')\n",
        "  gh.close()\n"
      ],
      "metadata": {
        "id": "EthW_2mAxJZX"
      },
      "execution_count": null,
      "outputs": []
    },
    {
      "cell_type": "code",
      "source": [
        "con=sqlite3.connect('summary.sqlite')\n",
        "cur=con.cursor()\n",
        "ar = input('Введите условие: ')\n",
        "sql=\"\"\"\\\n",
        "SELECT * FROM disciplines WHERE ?\n",
        "\"\"\"\n",
        "cur.executemany(sql,ar)\n",
        "ar1=cur.fetchall()\n",
        "con.commit()\n",
        "cur.close()\n",
        "con.close()"
      ],
      "metadata": {
        "colab": {
          "base_uri": "https://localhost:8080/",
          "height": 395
        },
        "id": "YtvmskLv_XFN",
        "outputId": "a5ae321f-717c-40cc-f765-9dc4f3153b84"
      },
      "execution_count": null,
      "outputs": [
        {
          "output_type": "error",
          "ename": "KeyboardInterrupt",
          "evalue": "ignored",
          "traceback": [
            "\u001b[0;31m---------------------------------------------------------------------------\u001b[0m",
            "\u001b[0;31mKeyboardInterrupt\u001b[0m                         Traceback (most recent call last)",
            "\u001b[0;32m<ipython-input-8-db222e650230>\u001b[0m in \u001b[0;36m<module>\u001b[0;34m\u001b[0m\n\u001b[1;32m      1\u001b[0m \u001b[0mcon\u001b[0m\u001b[0;34m=\u001b[0m\u001b[0msqlite3\u001b[0m\u001b[0;34m.\u001b[0m\u001b[0mconnect\u001b[0m\u001b[0;34m(\u001b[0m\u001b[0;34m'summary.sqlite'\u001b[0m\u001b[0;34m)\u001b[0m\u001b[0;34m\u001b[0m\u001b[0;34m\u001b[0m\u001b[0m\n\u001b[1;32m      2\u001b[0m \u001b[0mcur\u001b[0m\u001b[0;34m=\u001b[0m\u001b[0mcon\u001b[0m\u001b[0;34m.\u001b[0m\u001b[0mcursor\u001b[0m\u001b[0;34m(\u001b[0m\u001b[0;34m)\u001b[0m\u001b[0;34m\u001b[0m\u001b[0;34m\u001b[0m\u001b[0m\n\u001b[0;32m----> 3\u001b[0;31m \u001b[0mar\u001b[0m \u001b[0;34m=\u001b[0m \u001b[0minput\u001b[0m\u001b[0;34m(\u001b[0m\u001b[0;34m'Введите условие: '\u001b[0m\u001b[0;34m)\u001b[0m\u001b[0;34m\u001b[0m\u001b[0;34m\u001b[0m\u001b[0m\n\u001b[0m\u001b[1;32m      4\u001b[0m sql=\"\"\"\\\n\u001b[1;32m      5\u001b[0m \u001b[0mSELECT\u001b[0m \u001b[0;34m*\u001b[0m \u001b[0mFROM\u001b[0m \u001b[0mdisciplines\u001b[0m \u001b[0mWHERE\u001b[0m\u001b[0;31m \u001b[0m\u001b[0;31m?\u001b[0m\u001b[0;34m\u001b[0m\u001b[0;34m\u001b[0m\u001b[0m\n",
            "\u001b[0;32m/usr/local/lib/python3.7/dist-packages/ipykernel/kernelbase.py\u001b[0m in \u001b[0;36mraw_input\u001b[0;34m(self, prompt)\u001b[0m\n\u001b[1;32m    861\u001b[0m             \u001b[0mself\u001b[0m\u001b[0;34m.\u001b[0m\u001b[0m_parent_ident\u001b[0m\u001b[0;34m,\u001b[0m\u001b[0;34m\u001b[0m\u001b[0;34m\u001b[0m\u001b[0m\n\u001b[1;32m    862\u001b[0m             \u001b[0mself\u001b[0m\u001b[0;34m.\u001b[0m\u001b[0m_parent_header\u001b[0m\u001b[0;34m,\u001b[0m\u001b[0;34m\u001b[0m\u001b[0;34m\u001b[0m\u001b[0m\n\u001b[0;32m--> 863\u001b[0;31m             \u001b[0mpassword\u001b[0m\u001b[0;34m=\u001b[0m\u001b[0;32mFalse\u001b[0m\u001b[0;34m,\u001b[0m\u001b[0;34m\u001b[0m\u001b[0;34m\u001b[0m\u001b[0m\n\u001b[0m\u001b[1;32m    864\u001b[0m         )\n\u001b[1;32m    865\u001b[0m \u001b[0;34m\u001b[0m\u001b[0m\n",
            "\u001b[0;32m/usr/local/lib/python3.7/dist-packages/ipykernel/kernelbase.py\u001b[0m in \u001b[0;36m_input_request\u001b[0;34m(self, prompt, ident, parent, password)\u001b[0m\n\u001b[1;32m    902\u001b[0m             \u001b[0;32mexcept\u001b[0m \u001b[0mKeyboardInterrupt\u001b[0m\u001b[0;34m:\u001b[0m\u001b[0;34m\u001b[0m\u001b[0;34m\u001b[0m\u001b[0m\n\u001b[1;32m    903\u001b[0m                 \u001b[0;31m# re-raise KeyboardInterrupt, to truncate traceback\u001b[0m\u001b[0;34m\u001b[0m\u001b[0;34m\u001b[0m\u001b[0;34m\u001b[0m\u001b[0m\n\u001b[0;32m--> 904\u001b[0;31m                 \u001b[0;32mraise\u001b[0m \u001b[0mKeyboardInterrupt\u001b[0m\u001b[0;34m(\u001b[0m\u001b[0;34m\"Interrupted by user\"\u001b[0m\u001b[0;34m)\u001b[0m \u001b[0;32mfrom\u001b[0m \u001b[0;32mNone\u001b[0m\u001b[0;34m\u001b[0m\u001b[0;34m\u001b[0m\u001b[0m\n\u001b[0m\u001b[1;32m    905\u001b[0m             \u001b[0;32mexcept\u001b[0m \u001b[0mException\u001b[0m \u001b[0;32mas\u001b[0m \u001b[0me\u001b[0m\u001b[0;34m:\u001b[0m\u001b[0;34m\u001b[0m\u001b[0;34m\u001b[0m\u001b[0m\n\u001b[1;32m    906\u001b[0m                 \u001b[0mself\u001b[0m\u001b[0;34m.\u001b[0m\u001b[0mlog\u001b[0m\u001b[0;34m.\u001b[0m\u001b[0mwarning\u001b[0m\u001b[0;34m(\u001b[0m\u001b[0;34m\"Invalid Message:\"\u001b[0m\u001b[0;34m,\u001b[0m \u001b[0mexc_info\u001b[0m\u001b[0;34m=\u001b[0m\u001b[0;32mTrue\u001b[0m\u001b[0;34m)\u001b[0m\u001b[0;34m\u001b[0m\u001b[0;34m\u001b[0m\u001b[0m\n",
            "\u001b[0;31mKeyboardInterrupt\u001b[0m: Interrupted by user"
          ]
        }
      ]
    },
    {
      "cell_type": "code",
      "source": [
        "def find_data():\n",
        "  con=sqlite3.connect('summary.sqlite')\n",
        "  cur=con.cursor()\n",
        "  ar = input('Введите условие: ')\n",
        "  sql=\"\"\"\\\n",
        "  SELECT * FROM disciplines WHERE ?\n",
        "  \"\"\"\n",
        "  cur.executemany(sql,ar)\n",
        "  ar1=cur.fetchall()\n",
        "  con.commit()\n",
        "  cur.close()\n",
        "  con.close()"
      ],
      "metadata": {
        "id": "7Acrvjrw9Uii"
      },
      "execution_count": null,
      "outputs": []
    },
    {
      "cell_type": "code",
      "source": [
        "SELECT * FROM ALPHA WHERE god_rozhd>2002"
      ],
      "metadata": {
        "id": "r6pkO73g-Xjw"
      },
      "execution_count": null,
      "outputs": []
    },
    {
      "cell_type": "code",
      "source": [
        "def add_data():\n",
        "  print('Введите данные: ')\n",
        "  arr = []\n",
        "  arr.append(input('Код дисциплины по учебному плану - '))\n",
        "  arr.append(input('Название дисциплины - '))\n",
        "  arr.append(int(input('Номер семестра с аттестацией по дисциплине - ')))\n",
        "  arr.append(input('Тип аттестации (экзамен/зачет) - '))\n",
        "  arr.append(input('Дата аттестации - '))\n",
        "  arr.append(input('ФИО преподавателя, проводившего аттестацию - '))\n",
        "  arr.append(input('Должность преподавателя - '))\n",
        "  arr.append(int(input('Полученная оценка - ')))\n",
        "  arr.append(input('Дата занесения/обновления записи - '))\n",
        "  arr = tuple(arr)\n",
        "  ar = []\n",
        "  ar.append(arr)\n",
        "  con=sqlite3.connect('summary.sqlite')\n",
        "  cur=con.cursor()\n",
        "  sql=\"\"\"\\\n",
        "  INSERT INTO disciplines (code, discipline, term, type_certification , \n",
        "data_certification, fio_p , post , mark , data_mark ) VALUES (?,?,?,?,?,?,?,?,?)\n",
        "  \"\"\"\n",
        "  cur.executemany(sql,ar)\n",
        "  con.commit()\n",
        "  cur.close()\n",
        "  con.close()"
      ],
      "metadata": {
        "id": "LIuku9S_HxNM"
      },
      "execution_count": null,
      "outputs": []
    },
    {
      "cell_type": "code",
      "source": [
        "def user_choice():\n",
        "  print('Отображение текущего содержимого таблицы БД на экране в виде таблицы - 1')\n",
        "  print('Сохранение текущего содержимого таблицы БД в текстовый файл с задаваемым именем - 2')\n",
        "  print('Выбор имени одного из полей БД и задание условия по значениям этого поля. Отображение строк, удовлетворяющих заданному условию - 3')\n",
        "  print('Операции с подмножеством строк: удаление из БД, замена значений во всех строках в указанном поле на заданное значение - 4')\n",
        "  print('Добавление новой строки с заданными значениями полей в таблицу БД - 5')\n",
        "  print('Завершение работы с программой - 6')\n",
        "  while True:\n",
        "    print('Выберете действие(введите соответсвующее число):')\n",
        "    command = input()\n",
        "    if command == '1':\n",
        "      show_data()\n",
        "    elif command == '2':\n",
        "      save_data()\n",
        "    elif command == '3':\n",
        "      find_data()\n",
        "    elif command == '4':\n",
        "      show_data()\n",
        "    elif command == '5':\n",
        "      add_data()\n",
        "    elif command == '6':\n",
        "      break"
      ],
      "metadata": {
        "id": "XQHnob54cs28"
      },
      "execution_count": null,
      "outputs": []
    },
    {
      "cell_type": "code",
      "source": [
        "while True:\n",
        "    print('Начать работу? (да/нет)')\n",
        "    user_input = input().lower()\n",
        "    if user_input == 'да':\n",
        "      user_choice()\n",
        "      break\n",
        "    elif user_input == 'нет':\n",
        "      break\n",
        "    else:\n",
        "      print('Введите корректное значение!')"
      ],
      "metadata": {
        "colab": {
          "base_uri": "https://localhost:8080/",
          "height": 437
        },
        "id": "SQ-mvlsPa7DF",
        "outputId": "dff1ce87-8887-4d7b-9e6f-319995690874"
      },
      "execution_count": null,
      "outputs": [
        {
          "name": "stdout",
          "output_type": "stream",
          "text": [
            "Начать работу? (да/нет)\n",
            "да\n",
            "Отображение текущего содержимого таблицы БД на экране в виде таблицы - 1\n",
            "Сохранение текущего содержимого таблицы БД в текстовый файл с задаваемым именем - 2\n",
            "Выбор имени одного из полей БД и задание условия по значениям этого поля. Отображение строк, удовлетворяющих заданному условию - 3\n",
            "Операции с подмножеством строк: удаление из БД, замена значений во всех строках в указанном поле на заданное значение - 4\n",
            "Добавление новой строки с заданными значениями полей в таблицу БД - 5\n",
            "Завершение работы с программой - 6\n",
            "Выберете действие(введите соответсвующее число):\n",
            "1\n"
          ]
        },
        {
          "output_type": "display_data",
          "data": {
            "text/plain": [
              "     discipline term type_certification data_certification  \\\n",
              "code                                                         \n",
              "123         ИАД    3              зачет           26.03.21   \n",
              "1312        ТАУ    2            экзамен           12.02.20   \n",
              "\n",
              "                       fio_p       post mark data_mark  \n",
              "code                                                    \n",
              "123   Толков Виталий Юрьевич     Доцент    5  27.03.21  \n",
              "1312        Вак Торот Фаевич  Сторудник    3  12.23.20  "
            ],
            "text/html": [
              "\n",
              "  <div id=\"df-8452bcf0-c560-401e-866d-3e10fba1262d\">\n",
              "    <div class=\"colab-df-container\">\n",
              "      <div>\n",
              "<style scoped>\n",
              "    .dataframe tbody tr th:only-of-type {\n",
              "        vertical-align: middle;\n",
              "    }\n",
              "\n",
              "    .dataframe tbody tr th {\n",
              "        vertical-align: top;\n",
              "    }\n",
              "\n",
              "    .dataframe thead th {\n",
              "        text-align: right;\n",
              "    }\n",
              "</style>\n",
              "<table border=\"1\" class=\"dataframe\">\n",
              "  <thead>\n",
              "    <tr style=\"text-align: right;\">\n",
              "      <th></th>\n",
              "      <th>discipline</th>\n",
              "      <th>term</th>\n",
              "      <th>type_certification</th>\n",
              "      <th>data_certification</th>\n",
              "      <th>fio_p</th>\n",
              "      <th>post</th>\n",
              "      <th>mark</th>\n",
              "      <th>data_mark</th>\n",
              "    </tr>\n",
              "    <tr>\n",
              "      <th>code</th>\n",
              "      <th></th>\n",
              "      <th></th>\n",
              "      <th></th>\n",
              "      <th></th>\n",
              "      <th></th>\n",
              "      <th></th>\n",
              "      <th></th>\n",
              "      <th></th>\n",
              "    </tr>\n",
              "  </thead>\n",
              "  <tbody>\n",
              "    <tr>\n",
              "      <th>123</th>\n",
              "      <td>ИАД</td>\n",
              "      <td>3</td>\n",
              "      <td>зачет</td>\n",
              "      <td>26.03.21</td>\n",
              "      <td>Толков Виталий Юрьевич</td>\n",
              "      <td>Доцент</td>\n",
              "      <td>5</td>\n",
              "      <td>27.03.21</td>\n",
              "    </tr>\n",
              "    <tr>\n",
              "      <th>1312</th>\n",
              "      <td>ТАУ</td>\n",
              "      <td>2</td>\n",
              "      <td>экзамен</td>\n",
              "      <td>12.02.20</td>\n",
              "      <td>Вак Торот Фаевич</td>\n",
              "      <td>Сторудник</td>\n",
              "      <td>3</td>\n",
              "      <td>12.23.20</td>\n",
              "    </tr>\n",
              "  </tbody>\n",
              "</table>\n",
              "</div>\n",
              "      <button class=\"colab-df-convert\" onclick=\"convertToInteractive('df-8452bcf0-c560-401e-866d-3e10fba1262d')\"\n",
              "              title=\"Convert this dataframe to an interactive table.\"\n",
              "              style=\"display:none;\">\n",
              "        \n",
              "  <svg xmlns=\"http://www.w3.org/2000/svg\" height=\"24px\"viewBox=\"0 0 24 24\"\n",
              "       width=\"24px\">\n",
              "    <path d=\"M0 0h24v24H0V0z\" fill=\"none\"/>\n",
              "    <path d=\"M18.56 5.44l.94 2.06.94-2.06 2.06-.94-2.06-.94-.94-2.06-.94 2.06-2.06.94zm-11 1L8.5 8.5l.94-2.06 2.06-.94-2.06-.94L8.5 2.5l-.94 2.06-2.06.94zm10 10l.94 2.06.94-2.06 2.06-.94-2.06-.94-.94-2.06-.94 2.06-2.06.94z\"/><path d=\"M17.41 7.96l-1.37-1.37c-.4-.4-.92-.59-1.43-.59-.52 0-1.04.2-1.43.59L10.3 9.45l-7.72 7.72c-.78.78-.78 2.05 0 2.83L4 21.41c.39.39.9.59 1.41.59.51 0 1.02-.2 1.41-.59l7.78-7.78 2.81-2.81c.8-.78.8-2.07 0-2.86zM5.41 20L4 18.59l7.72-7.72 1.47 1.35L5.41 20z\"/>\n",
              "  </svg>\n",
              "      </button>\n",
              "      \n",
              "  <style>\n",
              "    .colab-df-container {\n",
              "      display:flex;\n",
              "      flex-wrap:wrap;\n",
              "      gap: 12px;\n",
              "    }\n",
              "\n",
              "    .colab-df-convert {\n",
              "      background-color: #E8F0FE;\n",
              "      border: none;\n",
              "      border-radius: 50%;\n",
              "      cursor: pointer;\n",
              "      display: none;\n",
              "      fill: #1967D2;\n",
              "      height: 32px;\n",
              "      padding: 0 0 0 0;\n",
              "      width: 32px;\n",
              "    }\n",
              "\n",
              "    .colab-df-convert:hover {\n",
              "      background-color: #E2EBFA;\n",
              "      box-shadow: 0px 1px 2px rgba(60, 64, 67, 0.3), 0px 1px 3px 1px rgba(60, 64, 67, 0.15);\n",
              "      fill: #174EA6;\n",
              "    }\n",
              "\n",
              "    [theme=dark] .colab-df-convert {\n",
              "      background-color: #3B4455;\n",
              "      fill: #D2E3FC;\n",
              "    }\n",
              "\n",
              "    [theme=dark] .colab-df-convert:hover {\n",
              "      background-color: #434B5C;\n",
              "      box-shadow: 0px 1px 3px 1px rgba(0, 0, 0, 0.15);\n",
              "      filter: drop-shadow(0px 1px 2px rgba(0, 0, 0, 0.3));\n",
              "      fill: #FFFFFF;\n",
              "    }\n",
              "  </style>\n",
              "\n",
              "      <script>\n",
              "        const buttonEl =\n",
              "          document.querySelector('#df-8452bcf0-c560-401e-866d-3e10fba1262d button.colab-df-convert');\n",
              "        buttonEl.style.display =\n",
              "          google.colab.kernel.accessAllowed ? 'block' : 'none';\n",
              "\n",
              "        async function convertToInteractive(key) {\n",
              "          const element = document.querySelector('#df-8452bcf0-c560-401e-866d-3e10fba1262d');\n",
              "          const dataTable =\n",
              "            await google.colab.kernel.invokeFunction('convertToInteractive',\n",
              "                                                     [key], {});\n",
              "          if (!dataTable) return;\n",
              "\n",
              "          const docLinkHtml = 'Like what you see? Visit the ' +\n",
              "            '<a target=\"_blank\" href=https://colab.research.google.com/notebooks/data_table.ipynb>data table notebook</a>'\n",
              "            + ' to learn more about interactive tables.';\n",
              "          element.innerHTML = '';\n",
              "          dataTable['output_type'] = 'display_data';\n",
              "          await google.colab.output.renderOutput(dataTable, element);\n",
              "          const docLink = document.createElement('div');\n",
              "          docLink.innerHTML = docLinkHtml;\n",
              "          element.appendChild(docLink);\n",
              "        }\n",
              "      </script>\n",
              "    </div>\n",
              "  </div>\n",
              "  "
            ]
          },
          "metadata": {}
        },
        {
          "name": "stdout",
          "output_type": "stream",
          "text": [
            "Выберете действие(введите соответсвующее число):\n",
            "2\n",
            "Введите имя файлакуегз\n",
            "Выберете действие(введите соответсвующее число):\n",
            "6\n"
          ]
        }
      ]
    }
  ]
}